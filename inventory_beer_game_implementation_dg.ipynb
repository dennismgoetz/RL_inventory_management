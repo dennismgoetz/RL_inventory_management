{
  "cells": [
    {
      "cell_type": "markdown",
      "source": [
        "# **Reinforcement Learning Project - Inventory beer game**"
      ],
      "metadata": {}
    },
    {
      "cell_type": "code",
      "source": [
        "import numpy as np\n",
        "import pandas as pd\n",
        "import matplotlib.pyplot as plt\n",
        "import random\n",
        "import sys"
      ],
      "outputs": [],
      "execution_count": 1,
      "metadata": {
        "gather": {
          "logged": 1692389927935
        }
      }
    },
    {
      "cell_type": "markdown",
      "source": [
        "### **Setup**\n",
        "For better understanding of the code output decrease supply chain from customer to distributor, set max_iteration to one,<br>\n",
        "set lead time lag to False (line 25 in main function), activate print functions (main function) and define state- and action-pairs as follows:<br>\n",
        "- state_pairs = [(i, j) for i in states for j in states]\n",
        "- action_pairs = [(i, j) for i in actions for j in actions]"
      ],
      "metadata": {}
    },
    {
      "cell_type": "code",
      "source": [
        "# Supply Chain and its agents\n",
        "supply_chain = {'level 0': 'Customer',\n",
        "                'level 1': 'Retailer',\n",
        "                'level 2': 'Distributor',\n",
        "                'level 3': 'Manufacturer'}\n",
        "\n",
        "agents = [supply_chain[i] for i in list(supply_chain.keys())[1:]]\n",
        "\n",
        "\n",
        "# All possible coded inventory positions of agents and the respective state pairs (5 states with 25 state pairs)\n",
        "states = np.arange(start=1, stop=7)\n",
        "state_pairs = [(i, j, k) for i in states for j in states for k in states]\n",
        "\n",
        "# y-value in ordering rule x+y with x equal to the demand from the downstream agent and the respective action pairs (4 actions with 16 action pairs)\n",
        "actions = np.arange(stop=4)\n",
        "action_pairs = [(i, j, k) for i in actions for j in actions for k in actions]\n",
        "\n",
        "\n",
        "# Initial matrix with Q-values (minimization -> high values)\n",
        "Q_values = np.full(shape=(len(state_pairs), len(action_pairs)), fill_value=1000)\n",
        "df_Q_values = pd.DataFrame(data=Q_values, index=state_pairs, columns=action_pairs)\n",
        "display(df_Q_values.head())"
      ],
      "outputs": [
        {
          "output_type": "display_data",
          "data": {
            "text/plain": "           (0, 0, 0)  (0, 0, 1)  (0, 0, 2)  (0, 0, 3)  (0, 1, 0)  (0, 1, 1)   \n(1, 1, 1)       1000       1000       1000       1000       1000       1000  \\\n(1, 1, 2)       1000       1000       1000       1000       1000       1000   \n(1, 1, 3)       1000       1000       1000       1000       1000       1000   \n(1, 1, 4)       1000       1000       1000       1000       1000       1000   \n(1, 1, 5)       1000       1000       1000       1000       1000       1000   \n\n           (0, 1, 2)  (0, 1, 3)  (0, 2, 0)  (0, 2, 1)  ...  (3, 1, 2)   \n(1, 1, 1)       1000       1000       1000       1000  ...       1000  \\\n(1, 1, 2)       1000       1000       1000       1000  ...       1000   \n(1, 1, 3)       1000       1000       1000       1000  ...       1000   \n(1, 1, 4)       1000       1000       1000       1000  ...       1000   \n(1, 1, 5)       1000       1000       1000       1000  ...       1000   \n\n           (3, 1, 3)  (3, 2, 0)  (3, 2, 1)  (3, 2, 2)  (3, 2, 3)  (3, 3, 0)   \n(1, 1, 1)       1000       1000       1000       1000       1000       1000  \\\n(1, 1, 2)       1000       1000       1000       1000       1000       1000   \n(1, 1, 3)       1000       1000       1000       1000       1000       1000   \n(1, 1, 4)       1000       1000       1000       1000       1000       1000   \n(1, 1, 5)       1000       1000       1000       1000       1000       1000   \n\n           (3, 3, 1)  (3, 3, 2)  (3, 3, 3)  \n(1, 1, 1)       1000       1000       1000  \n(1, 1, 2)       1000       1000       1000  \n(1, 1, 3)       1000       1000       1000  \n(1, 1, 4)       1000       1000       1000  \n(1, 1, 5)       1000       1000       1000  \n\n[5 rows x 64 columns]",
            "text/html": "<div>\n<style scoped>\n    .dataframe tbody tr th:only-of-type {\n        vertical-align: middle;\n    }\n\n    .dataframe tbody tr th {\n        vertical-align: top;\n    }\n\n    .dataframe thead th {\n        text-align: right;\n    }\n</style>\n<table border=\"1\" class=\"dataframe\">\n  <thead>\n    <tr style=\"text-align: right;\">\n      <th></th>\n      <th>(0, 0, 0)</th>\n      <th>(0, 0, 1)</th>\n      <th>(0, 0, 2)</th>\n      <th>(0, 0, 3)</th>\n      <th>(0, 1, 0)</th>\n      <th>(0, 1, 1)</th>\n      <th>(0, 1, 2)</th>\n      <th>(0, 1, 3)</th>\n      <th>(0, 2, 0)</th>\n      <th>(0, 2, 1)</th>\n      <th>...</th>\n      <th>(3, 1, 2)</th>\n      <th>(3, 1, 3)</th>\n      <th>(3, 2, 0)</th>\n      <th>(3, 2, 1)</th>\n      <th>(3, 2, 2)</th>\n      <th>(3, 2, 3)</th>\n      <th>(3, 3, 0)</th>\n      <th>(3, 3, 1)</th>\n      <th>(3, 3, 2)</th>\n      <th>(3, 3, 3)</th>\n    </tr>\n  </thead>\n  <tbody>\n    <tr>\n      <th>(1, 1, 1)</th>\n      <td>1000</td>\n      <td>1000</td>\n      <td>1000</td>\n      <td>1000</td>\n      <td>1000</td>\n      <td>1000</td>\n      <td>1000</td>\n      <td>1000</td>\n      <td>1000</td>\n      <td>1000</td>\n      <td>...</td>\n      <td>1000</td>\n      <td>1000</td>\n      <td>1000</td>\n      <td>1000</td>\n      <td>1000</td>\n      <td>1000</td>\n      <td>1000</td>\n      <td>1000</td>\n      <td>1000</td>\n      <td>1000</td>\n    </tr>\n    <tr>\n      <th>(1, 1, 2)</th>\n      <td>1000</td>\n      <td>1000</td>\n      <td>1000</td>\n      <td>1000</td>\n      <td>1000</td>\n      <td>1000</td>\n      <td>1000</td>\n      <td>1000</td>\n      <td>1000</td>\n      <td>1000</td>\n      <td>...</td>\n      <td>1000</td>\n      <td>1000</td>\n      <td>1000</td>\n      <td>1000</td>\n      <td>1000</td>\n      <td>1000</td>\n      <td>1000</td>\n      <td>1000</td>\n      <td>1000</td>\n      <td>1000</td>\n    </tr>\n    <tr>\n      <th>(1, 1, 3)</th>\n      <td>1000</td>\n      <td>1000</td>\n      <td>1000</td>\n      <td>1000</td>\n      <td>1000</td>\n      <td>1000</td>\n      <td>1000</td>\n      <td>1000</td>\n      <td>1000</td>\n      <td>1000</td>\n      <td>...</td>\n      <td>1000</td>\n      <td>1000</td>\n      <td>1000</td>\n      <td>1000</td>\n      <td>1000</td>\n      <td>1000</td>\n      <td>1000</td>\n      <td>1000</td>\n      <td>1000</td>\n      <td>1000</td>\n    </tr>\n    <tr>\n      <th>(1, 1, 4)</th>\n      <td>1000</td>\n      <td>1000</td>\n      <td>1000</td>\n      <td>1000</td>\n      <td>1000</td>\n      <td>1000</td>\n      <td>1000</td>\n      <td>1000</td>\n      <td>1000</td>\n      <td>1000</td>\n      <td>...</td>\n      <td>1000</td>\n      <td>1000</td>\n      <td>1000</td>\n      <td>1000</td>\n      <td>1000</td>\n      <td>1000</td>\n      <td>1000</td>\n      <td>1000</td>\n      <td>1000</td>\n      <td>1000</td>\n    </tr>\n    <tr>\n      <th>(1, 1, 5)</th>\n      <td>1000</td>\n      <td>1000</td>\n      <td>1000</td>\n      <td>1000</td>\n      <td>1000</td>\n      <td>1000</td>\n      <td>1000</td>\n      <td>1000</td>\n      <td>1000</td>\n      <td>1000</td>\n      <td>...</td>\n      <td>1000</td>\n      <td>1000</td>\n      <td>1000</td>\n      <td>1000</td>\n      <td>1000</td>\n      <td>1000</td>\n      <td>1000</td>\n      <td>1000</td>\n      <td>1000</td>\n      <td>1000</td>\n    </tr>\n  </tbody>\n</table>\n<p>5 rows × 64 columns</p>\n</div>"
          },
          "metadata": {}
        }
      ],
      "execution_count": 2,
      "metadata": {
        "gather": {
          "logged": 1692389928598
        }
      }
    },
    {
      "cell_type": "code",
      "source": [
        "# Define parameters\n",
        "iteration = 1\n",
        "max_iteration = 100000 #1000000\n",
        "T = 10\n",
        "gamma = 0.9 #low: faster convergence! less variance\n",
        "alpha = 0.17 #high: faster updating q-values (more weight to new observations) and big variance in q-value updates\n",
        "sigma = 0.001\n",
        "proba_exploitation = 0.02\n",
        "start_exploitation = proba_exploitation\n",
        "\n",
        "# Set up Lists to store the results of each iteration/episode\n",
        "S = [list(np.repeat(0, len(agents))) for i in range(T+4)]\n",
        "CS = [list(np.repeat(0, len(agents))) for i in range(T+4)]\n",
        "D = [list(np.repeat(0, len(agents))) for i in range(T+4)]\n",
        "O = [list(np.repeat(0, len(agents))) for i in range(T+4)]\n",
        "x = [list(np.repeat(0, len(agents))) for i in range(T+4)]\n",
        "y = [list(np.repeat(0, len(agents))) for i in range(T+4)]\n",
        "r = [list(np.repeat(0, len(agents))) for i in range(T+4)]\n",
        "R = [0 for i in range(T)]\n",
        "G = [0 for i in range(T)]\n",
        "q = [0 for i in range(T)]\n",
        "Q = [0 for i in range(max_iteration)]"
      ],
      "outputs": [],
      "execution_count": 3,
      "metadata": {
        "gather": {
          "logged": 1692389929200
        }
      }
    },
    {
      "cell_type": "markdown",
      "source": [
        "**Meaning of the variables**\n",
        "- S: (start-)inventory positions/states per agent and time step t\n",
        "- CS: coded states per agent and time step t\n",
        "- O: ordering size per agent and time step t\n",
        "- D: distribution amount per agent and time step t\n",
        "- x: demand from downstream level per agent and time step t\n",
        "- y: action per agent and time step t\n",
        "- r: reward per agent and time step t\n",
        "- R: reward of the supply chain per time step t\n",
        "- Return G: total discounted rewards per time step t\n",
        "- q: measure the decrease of the Q-value per time step t\n",
        "- Q: measure the mean decrease of Q-values per episode to indicate convergence"
      ],
      "metadata": {}
    },
    {
      "cell_type": "code",
      "source": [
        "# helperfunctions\n",
        "# function to convert real states to coded states\n",
        "def coded_state(inventory):\n",
        "    if inventory < -5:\n",
        "        return 1\n",
        "    elif inventory < 0:\n",
        "        return 2\n",
        "    elif inventory < 5:\n",
        "        return 3\n",
        "    elif inventory < 10:\n",
        "        return 4\n",
        "    elif inventory < 15:\n",
        "        return 5\n",
        "    else:\n",
        "        return 6\n",
        "\n",
        "\n",
        "# function to view episodes\n",
        "def fun_episode(S, CS, D, O, x, y, r, head=True):\n",
        "    time_steps = ['t='+str(i) for i in np.arange(start=0, stop=T+4)]\n",
        "\n",
        "    df = pd.DataFrame({'Inventory/States S': [tuple(i) for i in S],\n",
        "                   'Coded states CS': [tuple(i) for i in CS],\n",
        "                   'Demand x': [tuple(i) for i in x],\n",
        "                   'Distribution amount D': [tuple(i) for i in D],\n",
        "                   'Action y': [tuple(i) for i in y],\n",
        "                   'Ordering size': [tuple(i) for i in O],\n",
        "                   'Costs r': [tuple(i) for i in r]},\n",
        "                   index=time_steps)\n",
        "    df.index.name = 'Time'\n",
        "    if head == True:\n",
        "        return display(df.head())\n",
        "    else: return display(df)\n",
        "\n",
        "\n",
        "# function to define the starting states of the supply chain\n",
        "def fun_start_state(how='value', inv=10):\n",
        "    # select own start values for all agents\n",
        "    if how == 'value':\n",
        "        for agent in range(len(agents)):\n",
        "            S[0][agent] = inv\n",
        "            CS[0][agent] = coded_state(S[0][agent])\n",
        "    \n",
        "    # each episode has a change of 50% to start with high (12) or with low (0) inventory for all agents\n",
        "    elif how == 'high/low':\n",
        "        starting_state = random.choices(population=['high', 'low'], weights=[0.5, 0.5])[0]\n",
        "        if starting_state == 'high':\n",
        "            for agent in range(len(agents)):\n",
        "                S[0][agent] = 10\n",
        "                CS[0][agent] = coded_state(S[0][agent])\n",
        "        else:\n",
        "            for agent in range(len(agents)):\n",
        "                S[0][agent] = 1\n",
        "                CS[0][agent] = coded_state(S[0][agent])\n",
        "\n",
        "    # random starting positions (-10 to 16) of agents for each episode\n",
        "    elif how == 'random':\n",
        "        for agent in range(len(agents)):\n",
        "            S[0][agent] = random.choices(np.arange(start=-10, stop=16))[0]\n",
        "            CS[0][agent] = coded_state(S[0][agent])\n",
        "\n",
        "\n",
        "# function to switch lead time lags on or off\n",
        "def fun_lead_time(lag):\n",
        "    if lag == False:\n",
        "        lag = 0\n",
        "    else: lag = random.choices(population=[0, 1, 2, 3, 4], weights=[0.3, 0.25, 0.2, 0.15, 0.1])[0]\n",
        "    return lag\n",
        "\n",
        "\n",
        "# function to measure the Q-value decrease\n",
        "def fun_q_decrease(alpha, q_value, G):\n",
        "    new_q_value = (1-alpha) * q_value + alpha * G\n",
        "    decrease = (q_value - new_q_value) / q_value\n",
        "    return new_q_value, decrease\n",
        "\n",
        "\n",
        "# function to visualize the Q-vlaue decrease\n",
        "def plot_q_decrease(Q, iteration):\n",
        "    plt.figure(figsize=(12,4))\n",
        "    plt.plot(Q)\n",
        "    plt.xlim(0, iteration)\n",
        "    plt.ylim(-0.1, 1.1)\n",
        "    plt.xlabel('episode/iteration')\n",
        "    plt.ylabel('Q-value decrease')\n",
        "    plt.title('Q-value decrease per episode', size=18)\n",
        "    return plt.show()"
      ],
      "outputs": [],
      "execution_count": 4,
      "metadata": {
        "gather": {
          "logged": 1692389929768
        }
      }
    },
    {
      "cell_type": "code",
      "source": [
        "# Three possible options to set starting states\n",
        "fun_start_state(how='value', inv=10)\n",
        "print('Inventory state S: {}'.format(S))\n",
        "print('Coded state S: {}\\n'.format(CS))\n",
        "\n",
        "fun_start_state(how='high/low')\n",
        "print('Inventory state S: {}'.format(S))\n",
        "print('Coded state S: {}\\n'.format(CS))\n",
        "\n",
        "fun_start_state(how='random')\n",
        "print('Inventory state S: {}'.format(S))\n",
        "print('Coded state S: {}\\n'.format(CS))"
      ],
      "outputs": [
        {
          "output_type": "stream",
          "name": "stdout",
          "text": "Inventory state S: [[10, 10, 10], [0, 0, 0], [0, 0, 0], [0, 0, 0], [0, 0, 0], [0, 0, 0], [0, 0, 0], [0, 0, 0], [0, 0, 0], [0, 0, 0], [0, 0, 0], [0, 0, 0], [0, 0, 0], [0, 0, 0]]\nCoded state S: [[5, 5, 5], [0, 0, 0], [0, 0, 0], [0, 0, 0], [0, 0, 0], [0, 0, 0], [0, 0, 0], [0, 0, 0], [0, 0, 0], [0, 0, 0], [0, 0, 0], [0, 0, 0], [0, 0, 0], [0, 0, 0]]\n\nInventory state S: [[1, 1, 1], [0, 0, 0], [0, 0, 0], [0, 0, 0], [0, 0, 0], [0, 0, 0], [0, 0, 0], [0, 0, 0], [0, 0, 0], [0, 0, 0], [0, 0, 0], [0, 0, 0], [0, 0, 0], [0, 0, 0]]\nCoded state S: [[3, 3, 3], [0, 0, 0], [0, 0, 0], [0, 0, 0], [0, 0, 0], [0, 0, 0], [0, 0, 0], [0, 0, 0], [0, 0, 0], [0, 0, 0], [0, 0, 0], [0, 0, 0], [0, 0, 0], [0, 0, 0]]\n\nInventory state S: [[4, 0, -8], [0, 0, 0], [0, 0, 0], [0, 0, 0], [0, 0, 0], [0, 0, 0], [0, 0, 0], [0, 0, 0], [0, 0, 0], [0, 0, 0], [0, 0, 0], [0, 0, 0], [0, 0, 0], [0, 0, 0]]\nCoded state S: [[3, 3, 1], [0, 0, 0], [0, 0, 0], [0, 0, 0], [0, 0, 0], [0, 0, 0], [0, 0, 0], [0, 0, 0], [0, 0, 0], [0, 0, 0], [0, 0, 0], [0, 0, 0], [0, 0, 0], [0, 0, 0]]\n\n"
        }
      ],
      "execution_count": 5,
      "metadata": {
        "gather": {
          "logged": 1692389930542
        }
      }
    },
    {
      "cell_type": "code",
      "source": [
        "#%%capture\n",
        "# Main function\n",
        "\n",
        "while iteration <= max_iteration:\n",
        "    if iteration in [1, 10, 100, 1000, 10000, 25000, 50000, 75000,\n",
        "                    100000, 250000, 500000, 750000, max_iteration]:\n",
        "         print('iteration {}'.format(iteration))\n",
        "\n",
        "    #print('-------------------episode {}------------------'.format(iteration))\n",
        "    #print('Exploitation probability: {}\\n'.format(proba_exploitation))\n",
        "    t=0\n",
        "\n",
        "    # random starting position of agents for each episode\n",
        "    fun_start_state(how='high/low') #option 1: ('value', inv=10); option 2: 'high/low'; option 3: 'random'\n",
        "\n",
        "    while t < T:\n",
        "        #print('-----------------time step t={}----------------'.format(t))\n",
        "\n",
        "        # view state and coded state\n",
        "        state = tuple(S[t])\n",
        "        c_state = tuple(CS[t])\n",
        "        #print('State S: {} and coded state CS: {}'.format(state, c_state))\n",
        "\n",
        "        lead_time_lag = fun_lead_time(lag=True)\n",
        "        #print('Lead time lag of {} time steps\\n'.format(lead_time_lag))\n",
        "\n",
        "        for agent in range(len(agents)):\n",
        "            level = supply_chain['level ' + str(agent+1)]\n",
        "            #print('------------------{}------------------'.format(level))\n",
        "\n",
        "        # step 1: receive the new demand of the downstream agent\n",
        "            if level == 'Retailer':\n",
        "                x[t][agent] = np.random.randint(low=0, high=15)\n",
        "            else:\n",
        "                x[t][agent] = O[t-1][agent-1]\n",
        "            \n",
        "            # Add negative inventory (=demand of previous time steps) to the new demand\n",
        "            inventory = S[t][agent]\n",
        "            if inventory >= 0:\n",
        "                #print('Demand x from downstream ({}) at t-1: {}'.format(supply_chain['level ' + str(agent)], x[t][agent]))\n",
        "                pass\n",
        "            else:\n",
        "                #print('Demand x from downstream ({}) at t-1 + demand of previous time steps:'.format(supply_chain['level ' + str(agent)]))\n",
        "                #print(    '{} + {} = {}'.format(x[t][agent], np.abs(inventory), x[t][agent] + np.abs(inventory)))\n",
        "                x[t][agent] += np.abs(inventory)\n",
        "\n",
        "        # step 2: fulfill order of downstream agent from onhand inventory and calculate possible backlog costs\n",
        "            # set lead time lags for all agents except retailer (lead time to customer is zero)\n",
        "            if (level == agents[0]): lag = 0 #no lags in last iteration\n",
        "            else: lag = lead_time_lag\n",
        "\n",
        "            if (inventory >= 0) & (level != agents[-1]):\n",
        "                D[t+lag][agent] += min(x[t][agent], max(inventory, D[t-1][agent+1])) #distribution quantity is the demand or the maximum of inventory and last received order\n",
        "                #print('Distribution size D in t={}: {}'.format(t+lag, D[t+lag][agent]))\n",
        "            elif level != agents[-1]:\n",
        "                D[t+lag][agent] += min(x[t][agent], D[t-1][agent+1]) #negative inventory is demand of previous time steps and still needs to be complied\n",
        "                #print('Distribution size D (delivery of upstream agent in t-1) in t={}: {}'.format(t+lag, D[t+lag][agent])) #(max of demand and last received order)\n",
        "            elif (inventory >= 0) & (level == agents[-1]):\n",
        "                D[t+lag][agent] += min(x[t][agent], max(inventory, O[t-1][agent])) #last agent receives his own order out of warehouse\n",
        "                #print('Distribution size D in t={}: {}'.format(t+lag, D[t+lag][agent]))\n",
        "            else:\n",
        "                D[t+lag][agent] += min(x[t][agent], O[t-1][agent])\n",
        "                #print('Distribution size D (delivery of warehouse) in t={}: {}'.format(t+lag, D[t+lag][agent]))\n",
        "                \n",
        "            backlog = max(0, x[t][agent] - D[t+lag][agent]) #penalty/backlog costs (previous backlogs included in demand if inventory is negative)\n",
        "            #print('Backlog size: {}'.format(backlog))\n",
        "\n",
        "        # step 3: placing order for stock replenishment\n",
        "            # define best action for agent and select it with initially very small probability (first exploration and mostly random choices)\n",
        "            best_action = df_Q_values.iloc[df_Q_values.index.get_loc(tuple(CS[t]))].idxmin()[agent]\n",
        "            #print('Best action y*: {}'.format(best_action))\n",
        "\n",
        "            y[t][agent] = random.choices([best_action] + list(actions), weights=[proba_exploitation] + list(np.repeat((1 - proba_exploitation) / len(actions), len(actions))))[0]\n",
        "            #print('Action y: {}'.format(y[t][agent]))\n",
        "\n",
        "            if inventory >= 0:\n",
        "                O[t][agent] = x[t][agent] + y[t][agent]\n",
        "            else: O[t][agent] = x[t][agent] + inventory + y[t][agent] #subtract negative inventory (demand of previous time steps) again - has been ordered already\n",
        "            #print('Ordering size O: {}\\n'.format(O[t][agent]))\n",
        "\n",
        "        # step 4: previous orders are received from the upstream agent (update states for t+1)\n",
        "        #print('UPDATING STATES AND CALCULATING COSTS PER AGENT')\n",
        "        for agent in range(len(agents)):\n",
        "            level = supply_chain['level ' + str(agent+1)]\n",
        "            #print('------------------{}------------------'.format(level))\n",
        "\n",
        "            # update inventory with demand of t\n",
        "            if  S[t][agent] >= 0:\n",
        "                inventory =  S[t][agent] - x[t][agent]\n",
        "            else: inventory = - x[t][agent] #demand x contains negative inventory + new demand = new inventory\n",
        "\n",
        "            # update state t+1 with inventory + received order\n",
        "            if level != agents[-1]:\n",
        "                S[t+1][agent] = inventory + D[t+lag][agent+1]\n",
        "                #print('Inventory {} after receiving order +{} of t-1: {}'.format(inventory, D[t][agent+1], S[t+1][agent]))\n",
        "\n",
        "            # for last agent in supply chain: update state t+1 with inventory + order of t-1 (delivers from warehouse)\n",
        "            else:\n",
        "                S[t+1][agent] = inventory + O[t-1][agent]\n",
        "                #print('Inventory {} receiving order +{} of t-1: {}'.format(inventory, O[t-1][agent], S[t+1][agent]))\n",
        "            \n",
        "            # update coded states\n",
        "            CS[t+1][agent] = coded_state(S[t+1][agent])\n",
        "\n",
        "            # calculate agent's costs (onhand inventory holding costs + penalty costs)\n",
        "            r[t][agent] = 1 * max(S[t+1][agent], 0) + 2 * (x[t][agent] - D[t][agent]) #backlog\n",
        "            #print('Costs r: {}\\n'.format(r[t][agent]))\n",
        "\n",
        "        # calculate the total supply chain costs in t\n",
        "        action = tuple(y[t])\n",
        "        R[t] = np.sum(r[t])\n",
        "        #print('Supply Chain costs R in state {} with action {} at t={}: {}'.format(state, action, t, R[t]))            \n",
        "\n",
        "        # increase time step t\n",
        "        t += 1\n",
        "        #print('\\n\\n')\n",
        "\n",
        "    # view last episode\n",
        "    #fun_episode(S, CS, D, O, x, y, r, head=False)\n",
        "\n",
        "    # Loop from T to t=0 to calculate immediate rewards and returns\n",
        "    #print('-----Rewards and Total discounted returns-----')\n",
        "    for t in np.arange(start=0, stop=T)[::-1]:\n",
        "        # view immediate reward of each visited state-action-pair\n",
        "        #print('Immediate reward R in t={}: {}'.format(t, R[t]))\n",
        "\n",
        "        # calculate the return G: total discounted rewards\n",
        "        G[t] = R[t] + np.sum(R[t+1:] * np.array([gamma**i for i in np.arange(start=1, stop=T-t)]))\n",
        "    \n",
        "    # view returns of all state-action-pairs\n",
        "    #print('\\nTotal discounted rewards (Return G): \\n{}\\n'.format(G))\n",
        "\n",
        "    # update all visited Q-values\n",
        "    #print('---------------UPDATING Q-VALUES--------------')\n",
        "    for t in range(T):\n",
        "        state = tuple(CS[t])\n",
        "        action = tuple(y[t])\n",
        "\n",
        "        # get current Q-value\n",
        "        q_value = df_Q_values.iloc[df_Q_values.index.get_loc(state), df_Q_values.columns.get_loc(action)]\n",
        "        #print('t={}: state: {}, action: {}, old Q-value: {}, return: {}'.format(t, state, action, q_value, G[t]))\n",
        "\n",
        "        # update Q-values according to equation 12 in the paper (slide 30 TD-learning script)\n",
        "        df_Q_values.iloc[df_Q_values.index.get_loc(state), df_Q_values.columns.get_loc(action)] = (1-alpha) * q_value + alpha * G[t] #equal to: q_value + alpha * (G[t] - q_value)\n",
        "        new_q_value, decrease = fun_q_decrease(alpha, q_value, G[t])\n",
        "        q[t] = decrease\n",
        "        #print('New Q-value: {}\\n'.format(new_q_value))\n",
        "\n",
        "    # calculate mean Q-value decrease of current episode\n",
        "    Q[iteration-1] = np.mean(q)\n",
        "    #print('Mean Q-value decrease of all visited state-action-pairs in this episode: {}'.format(Q[iteration-1]))\n",
        "\n",
        "    # Check if the convergence criterion has been reached\n",
        "    if (iteration > 100) & (np.mean(np.abs(Q[iteration-5:iteration])) < sigma):\n",
        "        print('Convergence!')\n",
        "        break\n",
        "    \n",
        "    # Set list D to zero again\n",
        "    D = [list(np.repeat(0, len(agents))) for i in range(T+4)]\n",
        "\n",
        "    # increase exploitation probability linearly\n",
        "    proba_exploitation += (0.95 - start_exploitation) / max_iteration\n",
        "    #print('\\n\\n')\n",
        "\n",
        "    # start with next iteration\n",
        "    iteration += 1\n",
        "\n",
        "# round dataframe with Q-values\n",
        "df_Q_values = np.round(df_Q_values, 2)\n",
        "\n",
        "# view new Q-value table\n",
        "display(df_Q_values)\n",
        "\n",
        "# plot decrease of Q-vlaues\n",
        "plot_q_decrease(Q, iteration)"
      ],
      "outputs": [
        {
          "output_type": "stream",
          "name": "stdout",
          "text": "iteration 1\niteration 10\niteration 100\niteration 1000\niteration 10000\niteration 25000\niteration 50000\niteration 75000\niteration 100000\n"
        },
        {
          "output_type": "stream",
          "name": "stderr",
          "text": "/anaconda/envs/jupyter_env/lib/python3.8/site-packages/numpy/core/fromnumeric.py:3432: RuntimeWarning: Mean of empty slice.\n  return _methods._mean(a, axis=axis, dtype=dtype,\n/anaconda/envs/jupyter_env/lib/python3.8/site-packages/numpy/core/_methods.py:190: RuntimeWarning: invalid value encountered in double_scalars\n  ret = ret.dtype.type(ret / rcount)\n"
        },
        {
          "output_type": "display_data",
          "data": {
            "text/plain": "           (0, 0, 0)  (0, 0, 1)  (0, 0, 2)  (0, 0, 3)  (0, 1, 0)  (0, 1, 1)   \n(1, 1, 1)     501.23     552.42     518.74     535.64     566.56     536.72  \\\n(1, 1, 2)     475.17     532.60     493.29     490.40     512.01     546.49   \n(1, 1, 3)     560.06     555.98     552.33     551.08     546.45     546.47   \n(1, 1, 4)     348.59     339.97     340.74     369.41     360.80     367.38   \n(1, 1, 5)     266.57     323.55     300.17     455.90     288.51     398.12   \n...              ...        ...        ...        ...        ...        ...   \n(6, 6, 2)     223.97     365.03     396.32     242.08     200.17     828.30   \n(6, 6, 3)     185.61     198.60     189.97     193.55     200.01     189.43   \n(6, 6, 4)     212.60     192.59     203.87     206.33     191.64     215.89   \n(6, 6, 5)     200.63     191.76     180.77     178.83     173.97     198.51   \n(6, 6, 6)     140.80     140.89     152.81     143.86     149.97     186.05   \n\n           (0, 1, 2)  (0, 1, 3)  (0, 2, 0)  (0, 2, 1)  ...  (3, 1, 2)   \n(1, 1, 1)     533.26     514.50     518.42     531.77  ...     538.83  \\\n(1, 1, 2)     504.62     496.64     498.18     504.20  ...     498.83   \n(1, 1, 3)     602.06     573.11     549.24     569.52  ...     556.79   \n(1, 1, 4)     344.45     368.29     343.38     372.05  ...     366.64   \n(1, 1, 5)     561.68     568.99     306.52     343.55  ...     860.15   \n...              ...        ...        ...        ...  ...        ...   \n(6, 6, 2)     629.29     263.46     209.75     213.44  ...     571.97   \n(6, 6, 3)     184.17     189.78     199.21     219.13  ...     217.03   \n(6, 6, 4)     196.29     206.44     205.57     185.04  ...     199.81   \n(6, 6, 5)     186.04     177.43     159.42     229.55  ...     174.48   \n(6, 6, 6)     189.83     140.54     150.28     148.24  ...     170.21   \n\n           (3, 1, 3)  (3, 2, 0)  (3, 2, 1)  (3, 2, 2)  (3, 2, 3)  (3, 3, 0)   \n(1, 1, 1)     535.68     587.73     626.04     562.00     535.52     542.30  \\\n(1, 1, 2)     486.54     523.50     516.35     501.66     513.96     508.24   \n(1, 1, 3)     574.24     538.40     567.50     573.71     527.94     556.46   \n(1, 1, 4)     375.30     342.99     344.38     359.95     376.52     345.27   \n(1, 1, 5)     364.00     293.03     697.77     579.99     765.03     269.14   \n...              ...        ...        ...        ...        ...        ...   \n(6, 6, 2)     425.61     192.17     278.86     313.72     213.58     226.80   \n(6, 6, 3)     219.49     209.75     215.54     186.22     211.97     236.76   \n(6, 6, 4)     184.25     183.07     185.96     185.52     209.05     199.19   \n(6, 6, 5)     163.09     178.95     188.98     172.59     174.38     188.71   \n(6, 6, 6)     177.82     174.64     160.59     151.58     173.46     157.79   \n\n           (3, 3, 1)  (3, 3, 2)  (3, 3, 3)  \n(1, 1, 1)     544.11     537.64     532.39  \n(1, 1, 2)     549.12     523.13     556.65  \n(1, 1, 3)     571.69     560.06     551.72  \n(1, 1, 4)     375.39     344.34     364.03  \n(1, 1, 5)     272.63     367.33     429.78  \n...              ...        ...        ...  \n(6, 6, 2)     711.26     388.32     463.74  \n(6, 6, 3)     200.87     193.93     184.56  \n(6, 6, 4)     192.08     188.18     216.37  \n(6, 6, 5)     207.22     197.14     159.90  \n(6, 6, 6)     143.16     147.92     151.58  \n\n[216 rows x 64 columns]",
            "text/html": "<div>\n<style scoped>\n    .dataframe tbody tr th:only-of-type {\n        vertical-align: middle;\n    }\n\n    .dataframe tbody tr th {\n        vertical-align: top;\n    }\n\n    .dataframe thead th {\n        text-align: right;\n    }\n</style>\n<table border=\"1\" class=\"dataframe\">\n  <thead>\n    <tr style=\"text-align: right;\">\n      <th></th>\n      <th>(0, 0, 0)</th>\n      <th>(0, 0, 1)</th>\n      <th>(0, 0, 2)</th>\n      <th>(0, 0, 3)</th>\n      <th>(0, 1, 0)</th>\n      <th>(0, 1, 1)</th>\n      <th>(0, 1, 2)</th>\n      <th>(0, 1, 3)</th>\n      <th>(0, 2, 0)</th>\n      <th>(0, 2, 1)</th>\n      <th>...</th>\n      <th>(3, 1, 2)</th>\n      <th>(3, 1, 3)</th>\n      <th>(3, 2, 0)</th>\n      <th>(3, 2, 1)</th>\n      <th>(3, 2, 2)</th>\n      <th>(3, 2, 3)</th>\n      <th>(3, 3, 0)</th>\n      <th>(3, 3, 1)</th>\n      <th>(3, 3, 2)</th>\n      <th>(3, 3, 3)</th>\n    </tr>\n  </thead>\n  <tbody>\n    <tr>\n      <th>(1, 1, 1)</th>\n      <td>501.23</td>\n      <td>552.42</td>\n      <td>518.74</td>\n      <td>535.64</td>\n      <td>566.56</td>\n      <td>536.72</td>\n      <td>533.26</td>\n      <td>514.50</td>\n      <td>518.42</td>\n      <td>531.77</td>\n      <td>...</td>\n      <td>538.83</td>\n      <td>535.68</td>\n      <td>587.73</td>\n      <td>626.04</td>\n      <td>562.00</td>\n      <td>535.52</td>\n      <td>542.30</td>\n      <td>544.11</td>\n      <td>537.64</td>\n      <td>532.39</td>\n    </tr>\n    <tr>\n      <th>(1, 1, 2)</th>\n      <td>475.17</td>\n      <td>532.60</td>\n      <td>493.29</td>\n      <td>490.40</td>\n      <td>512.01</td>\n      <td>546.49</td>\n      <td>504.62</td>\n      <td>496.64</td>\n      <td>498.18</td>\n      <td>504.20</td>\n      <td>...</td>\n      <td>498.83</td>\n      <td>486.54</td>\n      <td>523.50</td>\n      <td>516.35</td>\n      <td>501.66</td>\n      <td>513.96</td>\n      <td>508.24</td>\n      <td>549.12</td>\n      <td>523.13</td>\n      <td>556.65</td>\n    </tr>\n    <tr>\n      <th>(1, 1, 3)</th>\n      <td>560.06</td>\n      <td>555.98</td>\n      <td>552.33</td>\n      <td>551.08</td>\n      <td>546.45</td>\n      <td>546.47</td>\n      <td>602.06</td>\n      <td>573.11</td>\n      <td>549.24</td>\n      <td>569.52</td>\n      <td>...</td>\n      <td>556.79</td>\n      <td>574.24</td>\n      <td>538.40</td>\n      <td>567.50</td>\n      <td>573.71</td>\n      <td>527.94</td>\n      <td>556.46</td>\n      <td>571.69</td>\n      <td>560.06</td>\n      <td>551.72</td>\n    </tr>\n    <tr>\n      <th>(1, 1, 4)</th>\n      <td>348.59</td>\n      <td>339.97</td>\n      <td>340.74</td>\n      <td>369.41</td>\n      <td>360.80</td>\n      <td>367.38</td>\n      <td>344.45</td>\n      <td>368.29</td>\n      <td>343.38</td>\n      <td>372.05</td>\n      <td>...</td>\n      <td>366.64</td>\n      <td>375.30</td>\n      <td>342.99</td>\n      <td>344.38</td>\n      <td>359.95</td>\n      <td>376.52</td>\n      <td>345.27</td>\n      <td>375.39</td>\n      <td>344.34</td>\n      <td>364.03</td>\n    </tr>\n    <tr>\n      <th>(1, 1, 5)</th>\n      <td>266.57</td>\n      <td>323.55</td>\n      <td>300.17</td>\n      <td>455.90</td>\n      <td>288.51</td>\n      <td>398.12</td>\n      <td>561.68</td>\n      <td>568.99</td>\n      <td>306.52</td>\n      <td>343.55</td>\n      <td>...</td>\n      <td>860.15</td>\n      <td>364.00</td>\n      <td>293.03</td>\n      <td>697.77</td>\n      <td>579.99</td>\n      <td>765.03</td>\n      <td>269.14</td>\n      <td>272.63</td>\n      <td>367.33</td>\n      <td>429.78</td>\n    </tr>\n    <tr>\n      <th>...</th>\n      <td>...</td>\n      <td>...</td>\n      <td>...</td>\n      <td>...</td>\n      <td>...</td>\n      <td>...</td>\n      <td>...</td>\n      <td>...</td>\n      <td>...</td>\n      <td>...</td>\n      <td>...</td>\n      <td>...</td>\n      <td>...</td>\n      <td>...</td>\n      <td>...</td>\n      <td>...</td>\n      <td>...</td>\n      <td>...</td>\n      <td>...</td>\n      <td>...</td>\n      <td>...</td>\n    </tr>\n    <tr>\n      <th>(6, 6, 2)</th>\n      <td>223.97</td>\n      <td>365.03</td>\n      <td>396.32</td>\n      <td>242.08</td>\n      <td>200.17</td>\n      <td>828.30</td>\n      <td>629.29</td>\n      <td>263.46</td>\n      <td>209.75</td>\n      <td>213.44</td>\n      <td>...</td>\n      <td>571.97</td>\n      <td>425.61</td>\n      <td>192.17</td>\n      <td>278.86</td>\n      <td>313.72</td>\n      <td>213.58</td>\n      <td>226.80</td>\n      <td>711.26</td>\n      <td>388.32</td>\n      <td>463.74</td>\n    </tr>\n    <tr>\n      <th>(6, 6, 3)</th>\n      <td>185.61</td>\n      <td>198.60</td>\n      <td>189.97</td>\n      <td>193.55</td>\n      <td>200.01</td>\n      <td>189.43</td>\n      <td>184.17</td>\n      <td>189.78</td>\n      <td>199.21</td>\n      <td>219.13</td>\n      <td>...</td>\n      <td>217.03</td>\n      <td>219.49</td>\n      <td>209.75</td>\n      <td>215.54</td>\n      <td>186.22</td>\n      <td>211.97</td>\n      <td>236.76</td>\n      <td>200.87</td>\n      <td>193.93</td>\n      <td>184.56</td>\n    </tr>\n    <tr>\n      <th>(6, 6, 4)</th>\n      <td>212.60</td>\n      <td>192.59</td>\n      <td>203.87</td>\n      <td>206.33</td>\n      <td>191.64</td>\n      <td>215.89</td>\n      <td>196.29</td>\n      <td>206.44</td>\n      <td>205.57</td>\n      <td>185.04</td>\n      <td>...</td>\n      <td>199.81</td>\n      <td>184.25</td>\n      <td>183.07</td>\n      <td>185.96</td>\n      <td>185.52</td>\n      <td>209.05</td>\n      <td>199.19</td>\n      <td>192.08</td>\n      <td>188.18</td>\n      <td>216.37</td>\n    </tr>\n    <tr>\n      <th>(6, 6, 5)</th>\n      <td>200.63</td>\n      <td>191.76</td>\n      <td>180.77</td>\n      <td>178.83</td>\n      <td>173.97</td>\n      <td>198.51</td>\n      <td>186.04</td>\n      <td>177.43</td>\n      <td>159.42</td>\n      <td>229.55</td>\n      <td>...</td>\n      <td>174.48</td>\n      <td>163.09</td>\n      <td>178.95</td>\n      <td>188.98</td>\n      <td>172.59</td>\n      <td>174.38</td>\n      <td>188.71</td>\n      <td>207.22</td>\n      <td>197.14</td>\n      <td>159.90</td>\n    </tr>\n    <tr>\n      <th>(6, 6, 6)</th>\n      <td>140.80</td>\n      <td>140.89</td>\n      <td>152.81</td>\n      <td>143.86</td>\n      <td>149.97</td>\n      <td>186.05</td>\n      <td>189.83</td>\n      <td>140.54</td>\n      <td>150.28</td>\n      <td>148.24</td>\n      <td>...</td>\n      <td>170.21</td>\n      <td>177.82</td>\n      <td>174.64</td>\n      <td>160.59</td>\n      <td>151.58</td>\n      <td>173.46</td>\n      <td>157.79</td>\n      <td>143.16</td>\n      <td>147.92</td>\n      <td>151.58</td>\n    </tr>\n  </tbody>\n</table>\n<p>216 rows × 64 columns</p>\n</div>"
          },
          "metadata": {}
        },
        {
          "output_type": "display_data",
          "data": {
            "text/plain": "<Figure size 1200x400 with 1 Axes>",
            "image/png": "[encoded data removed]"
          },
          "metadata": {}
        }
      ],
      "execution_count": 6,
      "metadata": {
        "gather": {
          "logged": 1692390762401
        }
      }
    },
    {
      "cell_type": "markdown",
      "source": [
        "### **View new Q-values**"
      ],
      "metadata": {}
    },
    {
      "cell_type": "code",
      "source": [
        "# Percentage of updated Q-values\n",
        "num_pairs = len(df_Q_values.index) * len(df_Q_values.columns)\n",
        "print('Number of state-action-pairs: {}'.format(num_pairs))\n",
        "print('Percentage of updated Q-values: {} %\\n'.format(np.round(np.sum(np.sum(df_Q_values != 10000)) / num_pairs * 100, 4)))\n",
        "\n",
        "visits = max_iteration * T\n",
        "print('Number of visits with max_iteration={} and T={}: {}'.format(max_iteration, T, visits))\n",
        "print('Average amount of visits per state-action-pair: {}\\n'.format(np.round(visits / num_pairs, 2)))\n",
        "\n",
        "# plot decrease of Q-vlaues\n",
        "print('Last five Q-value decreases: {}'.format(np.round(Q[iteration-5:iteration], 4)))\n",
        "print('Mean of last five Q-value decreases: {}'.format(np.round(np.mean(Q[iteration-5:iteration]), 4)))\n",
        "\n",
        "plot_q_decrease(Q, iteration)\n",
        "\n",
        "df_Q_values"
      ],
      "outputs": [
        {
          "output_type": "stream",
          "name": "stdout",
          "text": "Number of state-action-pairs: 13824\nPercentage of updated Q-values: 100.0 %\n\nNumber of visits with max_iteration=100000 and T=10: 1000000\nAverage amount of visits per state-action-pair: 72.34\n\nLast five Q-value decreases: [ 0.0168  0.0688  0.0176 -0.0177]\nMean of last five Q-value decreases: 0.0214\n"
        },
        {
          "output_type": "display_data",
          "data": {
            "text/plain": "<Figure size 1200x400 with 1 Axes>",
            "image/png": "[encoded data removed]"
          },
          "metadata": {}
        },
        {
          "output_type": "execute_result",
          "execution_count": 7,
          "data": {
            "text/plain": "           (0, 0, 0)  (0, 0, 1)  (0, 0, 2)  (0, 0, 3)  (0, 1, 0)  (0, 1, 1)   \n(1, 1, 1)     501.23     552.42     518.74     535.64     566.56     536.72  \\\n(1, 1, 2)     475.17     532.60     493.29     490.40     512.01     546.49   \n(1, 1, 3)     560.06     555.98     552.33     551.08     546.45     546.47   \n(1, 1, 4)     348.59     339.97     340.74     369.41     360.80     367.38   \n(1, 1, 5)     266.57     323.55     300.17     455.90     288.51     398.12   \n...              ...        ...        ...        ...        ...        ...   \n(6, 6, 2)     223.97     365.03     396.32     242.08     200.17     828.30   \n(6, 6, 3)     185.61     198.60     189.97     193.55     200.01     189.43   \n(6, 6, 4)     212.60     192.59     203.87     206.33     191.64     215.89   \n(6, 6, 5)     200.63     191.76     180.77     178.83     173.97     198.51   \n(6, 6, 6)     140.80     140.89     152.81     143.86     149.97     186.05   \n\n           (0, 1, 2)  (0, 1, 3)  (0, 2, 0)  (0, 2, 1)  ...  (3, 1, 2)   \n(1, 1, 1)     533.26     514.50     518.42     531.77  ...     538.83  \\\n(1, 1, 2)     504.62     496.64     498.18     504.20  ...     498.83   \n(1, 1, 3)     602.06     573.11     549.24     569.52  ...     556.79   \n(1, 1, 4)     344.45     368.29     343.38     372.05  ...     366.64   \n(1, 1, 5)     561.68     568.99     306.52     343.55  ...     860.15   \n...              ...        ...        ...        ...  ...        ...   \n(6, 6, 2)     629.29     263.46     209.75     213.44  ...     571.97   \n(6, 6, 3)     184.17     189.78     199.21     219.13  ...     217.03   \n(6, 6, 4)     196.29     206.44     205.57     185.04  ...     199.81   \n(6, 6, 5)     186.04     177.43     159.42     229.55  ...     174.48   \n(6, 6, 6)     189.83     140.54     150.28     148.24  ...     170.21   \n\n           (3, 1, 3)  (3, 2, 0)  (3, 2, 1)  (3, 2, 2)  (3, 2, 3)  (3, 3, 0)   \n(1, 1, 1)     535.68     587.73     626.04     562.00     535.52     542.30  \\\n(1, 1, 2)     486.54     523.50     516.35     501.66     513.96     508.24   \n(1, 1, 3)     574.24     538.40     567.50     573.71     527.94     556.46   \n(1, 1, 4)     375.30     342.99     344.38     359.95     376.52     345.27   \n(1, 1, 5)     364.00     293.03     697.77     579.99     765.03     269.14   \n...              ...        ...        ...        ...        ...        ...   \n(6, 6, 2)     425.61     192.17     278.86     313.72     213.58     226.80   \n(6, 6, 3)     219.49     209.75     215.54     186.22     211.97     236.76   \n(6, 6, 4)     184.25     183.07     185.96     185.52     209.05     199.19   \n(6, 6, 5)     163.09     178.95     188.98     172.59     174.38     188.71   \n(6, 6, 6)     177.82     174.64     160.59     151.58     173.46     157.79   \n\n           (3, 3, 1)  (3, 3, 2)  (3, 3, 3)  \n(1, 1, 1)     544.11     537.64     532.39  \n(1, 1, 2)     549.12     523.13     556.65  \n(1, 1, 3)     571.69     560.06     551.72  \n(1, 1, 4)     375.39     344.34     364.03  \n(1, 1, 5)     272.63     367.33     429.78  \n...              ...        ...        ...  \n(6, 6, 2)     711.26     388.32     463.74  \n(6, 6, 3)     200.87     193.93     184.56  \n(6, 6, 4)     192.08     188.18     216.37  \n(6, 6, 5)     207.22     197.14     159.90  \n(6, 6, 6)     143.16     147.92     151.58  \n\n[216 rows x 64 columns]",
            "text/html": "<div>\n<style scoped>\n    .dataframe tbody tr th:only-of-type {\n        vertical-align: middle;\n    }\n\n    .dataframe tbody tr th {\n        vertical-align: top;\n    }\n\n    .dataframe thead th {\n        text-align: right;\n    }\n</style>\n<table border=\"1\" class=\"dataframe\">\n  <thead>\n    <tr style=\"text-align: right;\">\n      <th></th>\n      <th>(0, 0, 0)</th>\n      <th>(0, 0, 1)</th>\n      <th>(0, 0, 2)</th>\n      <th>(0, 0, 3)</th>\n      <th>(0, 1, 0)</th>\n      <th>(0, 1, 1)</th>\n      <th>(0, 1, 2)</th>\n      <th>(0, 1, 3)</th>\n      <th>(0, 2, 0)</th>\n      <th>(0, 2, 1)</th>\n      <th>...</th>\n      <th>(3, 1, 2)</th>\n      <th>(3, 1, 3)</th>\n      <th>(3, 2, 0)</th>\n      <th>(3, 2, 1)</th>\n      <th>(3, 2, 2)</th>\n      <th>(3, 2, 3)</th>\n      <th>(3, 3, 0)</th>\n      <th>(3, 3, 1)</th>\n      <th>(3, 3, 2)</th>\n      <th>(3, 3, 3)</th>\n    </tr>\n  </thead>\n  <tbody>\n    <tr>\n      <th>(1, 1, 1)</th>\n      <td>501.23</td>\n      <td>552.42</td>\n      <td>518.74</td>\n      <td>535.64</td>\n      <td>566.56</td>\n      <td>536.72</td>\n      <td>533.26</td>\n      <td>514.50</td>\n      <td>518.42</td>\n      <td>531.77</td>\n      <td>...</td>\n      <td>538.83</td>\n      <td>535.68</td>\n      <td>587.73</td>\n      <td>626.04</td>\n      <td>562.00</td>\n      <td>535.52</td>\n      <td>542.30</td>\n      <td>544.11</td>\n      <td>537.64</td>\n      <td>532.39</td>\n    </tr>\n    <tr>\n      <th>(1, 1, 2)</th>\n      <td>475.17</td>\n      <td>532.60</td>\n      <td>493.29</td>\n      <td>490.40</td>\n      <td>512.01</td>\n      <td>546.49</td>\n      <td>504.62</td>\n      <td>496.64</td>\n      <td>498.18</td>\n      <td>504.20</td>\n      <td>...</td>\n      <td>498.83</td>\n      <td>486.54</td>\n      <td>523.50</td>\n      <td>516.35</td>\n      <td>501.66</td>\n      <td>513.96</td>\n      <td>508.24</td>\n      <td>549.12</td>\n      <td>523.13</td>\n      <td>556.65</td>\n    </tr>\n    <tr>\n      <th>(1, 1, 3)</th>\n      <td>560.06</td>\n      <td>555.98</td>\n      <td>552.33</td>\n      <td>551.08</td>\n      <td>546.45</td>\n      <td>546.47</td>\n      <td>602.06</td>\n      <td>573.11</td>\n      <td>549.24</td>\n      <td>569.52</td>\n      <td>...</td>\n      <td>556.79</td>\n      <td>574.24</td>\n      <td>538.40</td>\n      <td>567.50</td>\n      <td>573.71</td>\n      <td>527.94</td>\n      <td>556.46</td>\n      <td>571.69</td>\n      <td>560.06</td>\n      <td>551.72</td>\n    </tr>\n    <tr>\n      <th>(1, 1, 4)</th>\n      <td>348.59</td>\n      <td>339.97</td>\n      <td>340.74</td>\n      <td>369.41</td>\n      <td>360.80</td>\n      <td>367.38</td>\n      <td>344.45</td>\n      <td>368.29</td>\n      <td>343.38</td>\n      <td>372.05</td>\n      <td>...</td>\n      <td>366.64</td>\n      <td>375.30</td>\n      <td>342.99</td>\n      <td>344.38</td>\n      <td>359.95</td>\n      <td>376.52</td>\n      <td>345.27</td>\n      <td>375.39</td>\n      <td>344.34</td>\n      <td>364.03</td>\n    </tr>\n    <tr>\n      <th>(1, 1, 5)</th>\n      <td>266.57</td>\n      <td>323.55</td>\n      <td>300.17</td>\n      <td>455.90</td>\n      <td>288.51</td>\n      <td>398.12</td>\n      <td>561.68</td>\n      <td>568.99</td>\n      <td>306.52</td>\n      <td>343.55</td>\n      <td>...</td>\n      <td>860.15</td>\n      <td>364.00</td>\n      <td>293.03</td>\n      <td>697.77</td>\n      <td>579.99</td>\n      <td>765.03</td>\n      <td>269.14</td>\n      <td>272.63</td>\n      <td>367.33</td>\n      <td>429.78</td>\n    </tr>\n    <tr>\n      <th>...</th>\n      <td>...</td>\n      <td>...</td>\n      <td>...</td>\n      <td>...</td>\n      <td>...</td>\n      <td>...</td>\n      <td>...</td>\n      <td>...</td>\n      <td>...</td>\n      <td>...</td>\n      <td>...</td>\n      <td>...</td>\n      <td>...</td>\n      <td>...</td>\n      <td>...</td>\n      <td>...</td>\n      <td>...</td>\n      <td>...</td>\n      <td>...</td>\n      <td>...</td>\n      <td>...</td>\n    </tr>\n    <tr>\n      <th>(6, 6, 2)</th>\n      <td>223.97</td>\n      <td>365.03</td>\n      <td>396.32</td>\n      <td>242.08</td>\n      <td>200.17</td>\n      <td>828.30</td>\n      <td>629.29</td>\n      <td>263.46</td>\n      <td>209.75</td>\n      <td>213.44</td>\n      <td>...</td>\n      <td>571.97</td>\n      <td>425.61</td>\n      <td>192.17</td>\n      <td>278.86</td>\n      <td>313.72</td>\n      <td>213.58</td>\n      <td>226.80</td>\n      <td>711.26</td>\n      <td>388.32</td>\n      <td>463.74</td>\n    </tr>\n    <tr>\n      <th>(6, 6, 3)</th>\n      <td>185.61</td>\n      <td>198.60</td>\n      <td>189.97</td>\n      <td>193.55</td>\n      <td>200.01</td>\n      <td>189.43</td>\n      <td>184.17</td>\n      <td>189.78</td>\n      <td>199.21</td>\n      <td>219.13</td>\n      <td>...</td>\n      <td>217.03</td>\n      <td>219.49</td>\n      <td>209.75</td>\n      <td>215.54</td>\n      <td>186.22</td>\n      <td>211.97</td>\n      <td>236.76</td>\n      <td>200.87</td>\n      <td>193.93</td>\n      <td>184.56</td>\n    </tr>\n    <tr>\n      <th>(6, 6, 4)</th>\n      <td>212.60</td>\n      <td>192.59</td>\n      <td>203.87</td>\n      <td>206.33</td>\n      <td>191.64</td>\n      <td>215.89</td>\n      <td>196.29</td>\n      <td>206.44</td>\n      <td>205.57</td>\n      <td>185.04</td>\n      <td>...</td>\n      <td>199.81</td>\n      <td>184.25</td>\n      <td>183.07</td>\n      <td>185.96</td>\n      <td>185.52</td>\n      <td>209.05</td>\n      <td>199.19</td>\n      <td>192.08</td>\n      <td>188.18</td>\n      <td>216.37</td>\n    </tr>\n    <tr>\n      <th>(6, 6, 5)</th>\n      <td>200.63</td>\n      <td>191.76</td>\n      <td>180.77</td>\n      <td>178.83</td>\n      <td>173.97</td>\n      <td>198.51</td>\n      <td>186.04</td>\n      <td>177.43</td>\n      <td>159.42</td>\n      <td>229.55</td>\n      <td>...</td>\n      <td>174.48</td>\n      <td>163.09</td>\n      <td>178.95</td>\n      <td>188.98</td>\n      <td>172.59</td>\n      <td>174.38</td>\n      <td>188.71</td>\n      <td>207.22</td>\n      <td>197.14</td>\n      <td>159.90</td>\n    </tr>\n    <tr>\n      <th>(6, 6, 6)</th>\n      <td>140.80</td>\n      <td>140.89</td>\n      <td>152.81</td>\n      <td>143.86</td>\n      <td>149.97</td>\n      <td>186.05</td>\n      <td>189.83</td>\n      <td>140.54</td>\n      <td>150.28</td>\n      <td>148.24</td>\n      <td>...</td>\n      <td>170.21</td>\n      <td>177.82</td>\n      <td>174.64</td>\n      <td>160.59</td>\n      <td>151.58</td>\n      <td>173.46</td>\n      <td>157.79</td>\n      <td>143.16</td>\n      <td>147.92</td>\n      <td>151.58</td>\n    </tr>\n  </tbody>\n</table>\n<p>216 rows × 64 columns</p>\n</div>"
          },
          "metadata": {}
        }
      ],
      "execution_count": 7,
      "metadata": {
        "gather": {
          "logged": 1692390762769
        }
      }
    },
    {
      "cell_type": "markdown",
      "source": [
        "### **Test performance of the Reinforcement learning ordering mechanism (RLOM) on main and test problems**"
      ],
      "metadata": {}
    },
    {
      "cell_type": "code",
      "source": [
        "# Main test problem\n",
        "main_set = {'customer_demand': [15,10,8,14,9,3,13,2,13,11,3,4,6,11,15,12,15,4,12,3,13,10,15,15,3,11,1,13,10,10,0,0,8,0,14],\n",
        "            'lead_times': [2,0,2,4,4,4,0,2,4,1,1,0,0,1,1,0,1,1,2,1,1,1,4,2,2,1,4,3,4,1,4,0,3,3,4]}\n",
        "\n",
        "# Test problem 1\n",
        "set1 = {'customer_demand': [5,14,14,13,2,9,5,9,14,14,12,7,5,1,13,3,12,4,0,15,11,10,6,0,6,6,5,11,8,4,4,12,13,8,12],\n",
        "        'lead_times': [2,0,2,4,4,4,0,2,4,1,1,0,0,1,1,0,1,1,2,1,1,1,4,2,2,1,4,3,4,1,4,0,3,3,4]}\n",
        "\n",
        "# Test problem 2\n",
        "set2 = {'customer_demand': [15,10,8,14,9,3,13,2,13,11,3,4,6,11,15,12,15,4,12,3,13,10,15,15,3,11,1,13,10,10,0,0,8,0,14],\n",
        "        'lead_times': [4,2,2,0,2,2,1,1,3,0,0,3,3,3,4,1,1,1,3,0,4,2,3,4,1,3,3,3,0,3,4,3,3,0,3]}\n",
        "\n",
        "# Test problem 3\n",
        "set3 = {'customer_demand': [13,13,12,10,14,13,13,10,2,12,11,9,11,3,7,6,12,12,3,10,3,9,4,15,12,7,15,5,1,15,11,9,14,0,4],\n",
        "        'lead_times': [4,2,2,0,2,2,1,1,3,0,0,3,3,3,4,1,1,1,3,0,4,2,3,4,1,3,3,3,0,3,4,3,3,0,3]}\n",
        "\n",
        "# Own test problem\n",
        "set4 = {'customer_demand': list(np.random.randint(low=0, high=15, size=35)),\n",
        "        'lead_times': list(np.random.randint(low=0, high=4, size=35))}"
      ],
      "outputs": [],
      "execution_count": 8,
      "metadata": {
        "gather": {
          "logged": 1692390762983
        }
      }
    },
    {
      "cell_type": "code",
      "source": [
        "def main_function(problem_set, policy, t=0, T=len(main_set['customer_demand'])):\n",
        "    # set starting position of agents\n",
        "    fun_start_state(how='value', inv=10)\n",
        "\n",
        "    while t < T:\n",
        "        print('-----------------time step t={}----------------'.format(t))\n",
        "\n",
        "        # view state and coded state\n",
        "        state = tuple(S[t])\n",
        "        c_state = tuple(CS[t])\n",
        "        print('State S: {} and coded state CS: {}'.format(state, c_state))\n",
        "\n",
        "        # define random lead time lag (between 0 and 4)        \n",
        "        lead_time_lag = problem_set['lead_times'][t]\n",
        "        print('Lead time lag of {} time steps\\n'.format(lead_time_lag))\n",
        "\n",
        "        for agent in range(len(agents)):\n",
        "            level = supply_chain['level ' + str(agent+1)]\n",
        "            print('------------------{}------------------'.format(level))\n",
        "\n",
        "        # step 1: receive the new demand of the downstream agent\n",
        "            if level == 'Retailer': \n",
        "                x[t][agent] = problem_set['customer_demand'][t]\n",
        "            else:\n",
        "                x[t][agent] = O[t-1][agent-1]\n",
        "            \n",
        "            # Add negative inventory (=demand of previous time steps) to the new demand\n",
        "            inventory = S[t][agent]\n",
        "            if inventory >= 0:\n",
        "                print('Demand x from downstream ({}) at t-1: {}'.format(supply_chain['level ' + str(agent)], x[t][agent]))\n",
        "                pass\n",
        "            else:\n",
        "                print('Demand x from downstream ({}) at t-1 + demand of previous time steps:'.format(supply_chain['level ' + str(agent)]))\n",
        "                print(    '{} + {} = {}'.format(x[t][agent], np.abs(inventory), x[t][agent] + np.abs(inventory)))\n",
        "                x[t][agent] += np.abs(inventory)\n",
        "\n",
        "        # step 2: fulfill order of downstream agent from onhand inventory and calculate possible backlog costs\n",
        "            # set lead time lags for all agents except retailer (lead time to customer is zero)\n",
        "            if (level == agents[0]): lag = 0 #no lags in last iteration\n",
        "            else: lag = lead_time_lag\n",
        "\n",
        "            if (inventory >= 0) & (level != agents[-1]):\n",
        "                D[t+lag][agent] = min(x[t][agent], max(inventory, D[t-1][agent+1])) #distribution quantity is the demand or the maximum of inventory and last received order\n",
        "                print('Distribution size D in t={}: {}'.format(t+lag, D[t+lag][agent]))\n",
        "            elif level != agents[-1]:\n",
        "                D[t+lag][agent] = min(x[t][agent], D[t-1][agent+1]) #negative inventory is demand of previous time steps and still needs to be complied\n",
        "                print('Distribution size D (delivery of upstream agent in t-1) in t={}: {}'.format(t+lag, D[t+lag][agent])) #(max of demand and last received order)\n",
        "            elif (inventory >= 0) & (level == agents[-1]):\n",
        "                D[t+lag][agent] = min(x[t][agent], max(inventory, O[t-1][agent])) #last agent receives his own order out of warehouse\n",
        "                print('Distribution size D in t={}: {}'.format(t+lag, D[t+lag][agent]))\n",
        "            else:\n",
        "                D[t+lag][agent] = min(x[t][agent], O[t-1][agent])\n",
        "                print('Distribution size D (delivery of warehouse) in t={}: {}'.format(t+lag, D[t+lag][agent]))\n",
        "                \n",
        "            backlog = max(0, x[t][agent] - D[t+lag][agent]) #penalty/backlog costs (previous backlogs included in demand if inventory is negative)\n",
        "            print('Backlog size: {}'.format(backlog))\n",
        "\n",
        "        # step 3: placing order for stock replenishment\n",
        "            if policy == 'optimum':\n",
        "                y[t][agent] = opt_policy[tuple(CS[t])][agent]\n",
        "            elif policy == 'zero':\n",
        "                y[t][agent] = 0\n",
        "            else: y[t][agent] = np.random.randint(4)\n",
        "            print('Action y: {}'.format(y[t][agent]))\n",
        "\n",
        "            if inventory >= 0:\n",
        "                O[t][agent] = x[t][agent] + y[t][agent]\n",
        "            else: O[t][agent] = x[t][agent] + inventory + y[t][agent] #subtract negative inventory (demand of previous time steps) again - has been ordered already\n",
        "            print('Ordering size O: {}\\n'.format(O[t][agent]))\n",
        "\n",
        "        # step 4: previous orders are received from the upstream agent (update states for t+1)\n",
        "        print('UPDATING STATES AND CALCULATING COSTS PER AGENT')\n",
        "        for agent in range(len(agents)):\n",
        "            level = supply_chain['level ' + str(agent+1)]\n",
        "            print('------------------{}------------------'.format(level))\n",
        "\n",
        "            # update inventory with demand of t\n",
        "            if  S[t][agent] >= 0:\n",
        "                inventory =  S[t][agent] - x[t][agent]\n",
        "            else: inventory = - x[t][agent] #demand x contains negative inventory + new demand = new inventory\n",
        "\n",
        "            # update state t+1 with inventory + received order\n",
        "            if level != agents[-1]:\n",
        "                S[t+1][agent] = inventory + D[t+lag][agent+1]\n",
        "                print('Inventory {} after receiving order +{} of t-1: {}'.format(inventory, D[t][agent+1], S[t+1][agent]))\n",
        "\n",
        "            # for last agent in supply chain: update state t+1 with inventory + order of t-1 (delivers from warehouse)\n",
        "            else:\n",
        "                S[t+1][agent] = inventory + O[t-1][agent]\n",
        "                print('Inventory {} receiving order +{} of t-1: {}'.format(inventory, O[t-1][agent], S[t+1][agent]))\n",
        "            \n",
        "            # update coded states\n",
        "            CS[t+1][agent] = coded_state(S[t+1][agent])\n",
        "\n",
        "            # calculate agent's costs (onhand inventory holding costs + penalty costs)\n",
        "            r[t][agent] = 1 * max(S[t+1][agent], 0) + 2 * (x[t][agent] - D[t][agent]) #backlog\n",
        "            print('Costs r: {}\\n'.format(r[t][agent]))\n",
        "\n",
        "        # calculate the total supply chain costs in t\n",
        "        action = tuple(y[t])\n",
        "        R[t] = np.sum(r[t])\n",
        "        print('Supply Chain costs R in state {} with action {} at t={}: {}'.format(state, action, t, R[t]))            \n",
        "\n",
        "        # increase time step t\n",
        "        t += 1\n",
        "        print('\\n\\n')\n",
        "\n",
        "    # view episode\n",
        "    fun_episode(S, CS, D, O, x, y, r, head=False)\n",
        "\n",
        "    # View results\n",
        "    print(R)\n",
        "    print(np.sum(R))\n",
        "\n",
        "    return np.sum(R)"
      ],
      "outputs": [],
      "execution_count": 9,
      "metadata": {
        "gather": {
          "logged": 1692390763198
        }
      }
    },
    {
      "cell_type": "code",
      "source": [
        "T = 35\n",
        "\n",
        "# Set up Lists to store the results of each iteration/episode\n",
        "S = [list(np.repeat(0, len(agents))) for i in range(T+4)]\n",
        "CS = [list(np.repeat(0, len(agents))) for i in range(T+4)]\n",
        "D = [list(np.repeat(0, len(agents))) for i in range(T+4)]\n",
        "O = [list(np.repeat(0, len(agents))) for i in range(T+4)]\n",
        "x = [list(np.repeat(0, len(agents))) for i in range(T+4)]\n",
        "y = [list(np.repeat(0, len(agents))) for i in range(T+4)]\n",
        "r = [list(np.repeat(0, len(agents))) for i in range(T+4)]\n",
        "R = [0 for i in range(T)]\n",
        "\n",
        "# Extract optimal policy of Q-values\n",
        "opt_policy = df_Q_values.idxmin(axis=1)\n",
        "optimum_policy =[]\n",
        "benchmark1 = []\n",
        "benchmark2 = []"
      ],
      "outputs": [],
      "execution_count": 10,
      "metadata": {
        "gather": {
          "logged": 1692390763426
        }
      }
    },
    {
      "cell_type": "code",
      "source": [
        "%%capture\n",
        "\n",
        "optimum_policy.append(main_function(problem_set=main_set, policy='optimum', t=0, T=35))\n",
        "optimum_policy.append(main_function(t=0, T=35, problem_set=set1, policy='optimum'))\n",
        "optimum_policy.append(main_function(t=0, T=35, problem_set=set2, policy='optimum'))\n",
        "optimum_policy.append(main_function(t=0, T=35, problem_set=set3, policy='optimum'))\n",
        "optimum_policy.append(main_function(t=0, T=35, problem_set=set4, policy='optimum'))"
      ],
      "outputs": [],
      "execution_count": 11,
      "metadata": {
        "gather": {
          "logged": 1692388778387
        }
      }
    },
    {
      "cell_type": "markdown",
      "source": [
        "### **Benchmark policy 1: Order = demand (y=0)**"
      ],
      "metadata": {}
    },
    {
      "cell_type": "code",
      "source": [
        "T = 35\n",
        "\n",
        "# Set up Lists to store the results of each iteration/episode\n",
        "S = [list(np.repeat(0, len(agents))) for i in range(T+4)]\n",
        "CS = [list(np.repeat(0, len(agents))) for i in range(T+4)]\n",
        "D = [list(np.repeat(0, len(agents))) for i in range(T+4)]\n",
        "O = [list(np.repeat(0, len(agents))) for i in range(T+4)]\n",
        "x = [list(np.repeat(0, len(agents))) for i in range(T+4)]\n",
        "y = [list(np.repeat(0, len(agents))) for i in range(T+4)]\n",
        "r = [list(np.repeat(0, len(agents))) for i in range(T+4)]\n",
        "R = [0 for i in range(T)]"
      ],
      "outputs": [],
      "execution_count": 12,
      "metadata": {
        "gather": {
          "logged": 1692390763820
        }
      }
    },
    {
      "cell_type": "code",
      "source": [
        "%%capture\n",
        "\n",
        "benchmark1.append(main_function(problem_set=set1, policy='zero', t=0, T=35))\n",
        "benchmark1.append(main_function(t=0, T=35, problem_set=set1, policy='zero'))\n",
        "benchmark1.append(main_function(t=0, T=35, problem_set=set2, policy='zero'))\n",
        "benchmark1.append(main_function(t=0, T=35, problem_set=set3, policy='zero'))\n",
        "benchmark1.append(main_function(t=0, T=35, problem_set=set4, policy='zero'))"
      ],
      "outputs": [],
      "execution_count": 13,
      "metadata": {
        "gather": {
          "logged": 1692389343347
        }
      }
    },
    {
      "cell_type": "markdown",
      "source": [
        "### **Benchmark policy 2: Order = demand + random y ∈ [0, 3]**"
      ],
      "metadata": {}
    },
    {
      "cell_type": "code",
      "source": [
        "T = 35\n",
        "\n",
        "# Set up Lists to store the results of each iteration/episode\n",
        "S = [list(np.repeat(0, len(agents))) for i in range(T+4)]\n",
        "CS = [list(np.repeat(0, len(agents))) for i in range(T+4)]\n",
        "D = [list(np.repeat(0, len(agents))) for i in range(T+4)]\n",
        "O = [list(np.repeat(0, len(agents))) for i in range(T+4)]\n",
        "x = [list(np.repeat(0, len(agents))) for i in range(T+4)]\n",
        "y = [list(np.repeat(0, len(agents))) for i in range(T+4)]\n",
        "r = [list(np.repeat(0, len(agents))) for i in range(T+4)]\n",
        "R = [0 for i in range(T)]"
      ],
      "outputs": [],
      "execution_count": 14,
      "metadata": {
        "gather": {
          "logged": 1692390764212
        }
      }
    },
    {
      "cell_type": "code",
      "source": [
        "%%capture\n",
        "\n",
        "benchmark2.append(main_function(problem_set=set1, policy='random', t=0, T=35))\n",
        "benchmark2.append(main_function(t=0, T=35, problem_set=set1, policy='random'))\n",
        "benchmark2.append(main_function(t=0, T=35, problem_set=set2, policy='random'))\n",
        "benchmark2.append(main_function(t=0, T=35, problem_set=set3, policy='random'))\n",
        "benchmark2.append(main_function(t=0, T=35, problem_set=set4, policy='random'))"
      ],
      "outputs": [],
      "execution_count": 15,
      "metadata": {
        "gather": {
          "logged": 1692389344502
        }
      }
    },
    {
      "cell_type": "markdown",
      "source": [
        "### **Compare costs for all problem sets**"
      ],
      "metadata": {
        "nteract": {
          "transient": {
            "deleting": false
          }
        }
      }
    },
    {
      "cell_type": "code",
      "source": [
        "print('Sum of costs per problem of optimum policy with Q-vales lernt byRLOM:\\n{}'.format(optimum_policy))\n",
        "print('Mean costs: {}\\n'.format(np.round(np.mean(optimum_policy))))\n",
        "\n",
        "print('Sum of costs per problem of benchmark1 (y=0):\\n{}'.format(benchmark1))\n",
        "print('Mean costs: {}\\n'.format(np.round(np.mean(benchmark1))))\n",
        "\n",
        "print('Sum of costs per problem of benchmark2 (random):\\n{}'.format(benchmark2))\n",
        "print('Mean costs: {}\\n'.format(np.round(np.mean(benchmark2))))"
      ],
      "outputs": [
        {
          "output_type": "stream",
          "name": "stdout",
          "text": "Sum of costs per problem of optimum policy with Q-vales lernt byRLOM:\n[5287, 4356, 3569, 3629, 2298]\nMean costs: 3828.0\n\nSum of costs per problem of benchmark1 (y=0):\n[5903, 5903, 4519, 4608, 2978]\nMean costs: 4782.0\n\nSum of costs per problem of benchmark2 (random):\n[3698, 3712, 3907, 3806, 2247]\nMean costs: 3474.0\n\n"
        }
      ],
      "execution_count": 16,
      "metadata": {
        "jupyter": {
          "source_hidden": false,
          "outputs_hidden": false
        },
        "nteract": {
          "transient": {
            "deleting": false
          }
        },
        "gather": {
          "logged": 1692390764610
        }
      }
    }
  ],
  "metadata": {
    "kernelspec": {
      "name": "python3",
      "language": "python",
      "display_name": "Python 3 (ipykernel)"
    },
    "language_info": {
      "name": "python",
      "version": "3.8.5",
      "mimetype": "text/x-python",
      "codemirror_mode": {
        "name": "ipython",
        "version": 3
      },
      "pygments_lexer": "ipython3",
      "nbconvert_exporter": "python",
      "file_extension": ".py"
    },
    "microsoft": {
      "host": {
        "AzureML": {
          "notebookHasBeenCompleted": true
        }
      },
      "ms_spell_check": {
        "ms_spell_check_language": "en"
      }
    },
    "nteract": {
      "version": "nteract-front-end@1.0.0"
    },
    "orig_nbformat": 4,
    "kernel_info": {
      "name": "python3"
    }
  },
  "nbformat": 4,
  "nbformat_minor": 2
}